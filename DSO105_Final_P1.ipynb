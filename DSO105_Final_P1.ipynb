{
 "cells": [
  {
   "cell_type": "code",
   "execution_count": 2,
   "id": "cc06055e-c590-4d12-99c9-4da648fcde31",
   "metadata": {},
   "outputs": [],
   "source": [
    "import pandas as pd\n",
    "import numpy as np\n",
    "import seaborn as sns\n",
    "import scipy \n",
    "from scipy import stats\n",
    "from statsmodels.stats.multicomp import pairwise_tukeyhsd\n",
    "from statsmodels.stats.multicomp import MultiComparison\n",
    "from statsmodels.stats.proportion import proportions_ztest"
   ]
  },
  {
   "cell_type": "markdown",
   "id": "12f447c8-04fe-45f5-9dc4-9b390ac96afc",
   "metadata": {},
   "source": [
    "### scenario 1\n",
    "#### are the incidence of fraud among claimants is more than 16% ?\n",
    "#### run a one proportion ztest to find out"
   ]
  },
  {
   "cell_type": "code",
   "execution_count": 6,
   "id": "e540f2c4-cdd9-4d00-ac0f-6a4efbf3327a",
   "metadata": {},
   "outputs": [
    {
     "name": "stdout",
     "output_type": "stream",
     "text": [
      "2.9229268377264077 0.0034675798365736213\n"
     ]
    }
   ],
   "source": [
    "count = 28\n",
    "nobs = 94\n",
    "value = .16\n",
    "stats, pval = proportions_ztest(count, nobs, value)\n",
    "print(stats, pval)"
   ]
  },
  {
   "cell_type": "markdown",
   "id": "1c6c6f7d-c045-42af-a907-27660a29789b",
   "metadata": {},
   "source": [
    "#### this P value is less then .05 so we will reject the null hypothosis, fraud claims are in fact more then 16% "
   ]
  },
  {
   "cell_type": "code",
   "execution_count": null,
   "id": "a4ad9cfb-9f27-42c1-aa0c-b781e0277fcc",
   "metadata": {},
   "outputs": [],
   "source": []
  }
 ],
 "metadata": {
  "kernelspec": {
   "display_name": "Python 3 (ipykernel)",
   "language": "python",
   "name": "python3"
  },
  "language_info": {
   "codemirror_mode": {
    "name": "ipython",
    "version": 3
   },
   "file_extension": ".py",
   "mimetype": "text/x-python",
   "name": "python",
   "nbconvert_exporter": "python",
   "pygments_lexer": "ipython3",
   "version": "3.9.10"
  }
 },
 "nbformat": 4,
 "nbformat_minor": 5
}
